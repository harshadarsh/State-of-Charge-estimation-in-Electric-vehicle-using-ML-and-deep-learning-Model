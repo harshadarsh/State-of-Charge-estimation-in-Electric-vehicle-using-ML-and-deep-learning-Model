{
  "nbformat": 4,
  "nbformat_minor": 0,
  "metadata": {
    "colab": {
      "provenance": [],
      "authorship_tag": "ABX9TyPdxaP1+M5qdJGbOyzMSozS"
    },
    "kernelspec": {
      "name": "python3",
      "display_name": "Python 3"
    },
    "language_info": {
      "name": "python"
    }
  },
  "cells": [
    {
      "cell_type": "code",
      "execution_count": null,
      "metadata": {
        "colab": {
          "base_uri": "https://localhost:8080/"
        },
        "id": "pr-0F0AJUo89",
        "outputId": "74aca195-ca5a-4a14-db17-658d378287ba"
      },
      "outputs": [
        {
          "output_type": "stream",
          "name": "stdout",
          "text": [
            "Epoch 1/50\n",
            "184/184 [==============================] - 1s 2ms/step - loss: 0.2995\n",
            "Epoch 2/50\n",
            "184/184 [==============================] - 0s 2ms/step - loss: 0.0169\n",
            "Epoch 3/50\n",
            "184/184 [==============================] - 0s 2ms/step - loss: 0.0128\n",
            "Epoch 4/50\n",
            "184/184 [==============================] - 0s 2ms/step - loss: 0.0105\n",
            "Epoch 5/50\n",
            "184/184 [==============================] - 0s 2ms/step - loss: 0.0089\n",
            "Epoch 6/50\n",
            "184/184 [==============================] - 0s 2ms/step - loss: 0.0077\n",
            "Epoch 7/50\n",
            "184/184 [==============================] - 0s 2ms/step - loss: 0.0066\n",
            "Epoch 8/50\n",
            "184/184 [==============================] - 0s 2ms/step - loss: 0.0052\n",
            "Epoch 9/50\n",
            "184/184 [==============================] - 1s 4ms/step - loss: 0.0045\n",
            "Epoch 10/50\n",
            "184/184 [==============================] - 1s 5ms/step - loss: 0.0040\n",
            "Epoch 11/50\n",
            "184/184 [==============================] - 1s 7ms/step - loss: 0.0032\n",
            "Epoch 12/50\n",
            "184/184 [==============================] - 1s 7ms/step - loss: 0.0029\n",
            "Epoch 13/50\n",
            "184/184 [==============================] - 1s 6ms/step - loss: 0.0027\n",
            "Epoch 14/50\n",
            "184/184 [==============================] - 1s 5ms/step - loss: 0.0022\n",
            "Epoch 15/50\n",
            "184/184 [==============================] - 1s 4ms/step - loss: 0.0021\n",
            "Epoch 16/50\n",
            "184/184 [==============================] - 1s 3ms/step - loss: 0.0020\n",
            "Epoch 17/50\n",
            "184/184 [==============================] - 1s 3ms/step - loss: 0.0017\n",
            "Epoch 18/50\n",
            "184/184 [==============================] - 1s 3ms/step - loss: 0.0015\n",
            "Epoch 19/50\n",
            "184/184 [==============================] - 0s 2ms/step - loss: 0.0016\n",
            "Epoch 20/50\n",
            "184/184 [==============================] - 1s 3ms/step - loss: 0.0015\n",
            "Epoch 21/50\n",
            "184/184 [==============================] - 0s 3ms/step - loss: 0.0014\n",
            "Epoch 22/50\n",
            "184/184 [==============================] - 1s 5ms/step - loss: 0.0013\n",
            "Epoch 23/50\n",
            "184/184 [==============================] - 1s 4ms/step - loss: 0.0016\n",
            "Epoch 24/50\n",
            "184/184 [==============================] - 1s 4ms/step - loss: 0.0016\n",
            "Epoch 25/50\n",
            "184/184 [==============================] - 1s 3ms/step - loss: 0.0017\n",
            "Epoch 26/50\n",
            "184/184 [==============================] - 1s 3ms/step - loss: 0.0012\n",
            "Epoch 27/50\n",
            "184/184 [==============================] - 1s 4ms/step - loss: 0.0014\n",
            "Epoch 28/50\n",
            "184/184 [==============================] - 1s 4ms/step - loss: 0.0017\n",
            "Epoch 29/50\n",
            "184/184 [==============================] - 1s 4ms/step - loss: 0.0011\n",
            "Epoch 30/50\n",
            "184/184 [==============================] - 1s 7ms/step - loss: 0.0013\n",
            "Epoch 31/50\n",
            "184/184 [==============================] - 1s 6ms/step - loss: 0.0011\n",
            "Epoch 32/50\n",
            "184/184 [==============================] - 1s 5ms/step - loss: 0.0014\n",
            "Epoch 33/50\n",
            "184/184 [==============================] - 1s 4ms/step - loss: 0.0013\n",
            "Epoch 34/50\n",
            "184/184 [==============================] - 1s 3ms/step - loss: 0.0012\n",
            "Epoch 35/50\n",
            "184/184 [==============================] - 1s 3ms/step - loss: 0.0016\n",
            "Epoch 36/50\n",
            "184/184 [==============================] - 1s 3ms/step - loss: 0.0012\n",
            "Epoch 37/50\n",
            "184/184 [==============================] - 1s 3ms/step - loss: 0.0013\n",
            "Epoch 38/50\n",
            "184/184 [==============================] - 1s 4ms/step - loss: 9.6797e-04\n",
            "Epoch 39/50\n",
            "184/184 [==============================] - 1s 5ms/step - loss: 0.0014\n",
            "Epoch 40/50\n",
            "184/184 [==============================] - 1s 3ms/step - loss: 0.0012\n",
            "Epoch 41/50\n",
            "184/184 [==============================] - 1s 4ms/step - loss: 9.5540e-04\n",
            "Epoch 42/50\n",
            "184/184 [==============================] - 1s 5ms/step - loss: 0.0020\n",
            "Epoch 43/50\n",
            "184/184 [==============================] - 1s 3ms/step - loss: 9.7660e-04\n",
            "Epoch 44/50\n",
            "184/184 [==============================] - 1s 6ms/step - loss: 0.0011\n",
            "Epoch 45/50\n",
            "184/184 [==============================] - 1s 3ms/step - loss: 0.0013\n",
            "Epoch 46/50\n",
            "184/184 [==============================] - 1s 4ms/step - loss: 9.4179e-04\n",
            "Epoch 47/50\n",
            "184/184 [==============================] - 1s 7ms/step - loss: 8.8951e-04\n",
            "Epoch 48/50\n",
            "184/184 [==============================] - 0s 2ms/step - loss: 9.6845e-04\n",
            "Epoch 49/50\n",
            "184/184 [==============================] - 0s 2ms/step - loss: 0.0014\n",
            "Epoch 50/50\n",
            "184/184 [==============================] - 1s 3ms/step - loss: 0.0013\n",
            "46/46 [==============================] - 0s 1ms/step\n",
            "MSE 0.0017605168167254518\n",
            "RMSE 0.04195851304235473\n",
            "MAE 0.033016041759970215\n"
          ]
        }
      ],
      "source": [
        "import pandas as pd\n",
        "from sklearn.model_selection import train_test_split\n",
        "from keras.models import Sequential\n",
        "from keras.layers import Dense, Conv1D, MaxPooling1D, Flatten\n",
        "from keras.models import load_model\n",
        "from sklearn.metrics import mean_absolute_error, mean_squared_error\n",
        "import numpy as np\n",
        "# Load data from CSV file\n",
        "data = pd.read_csv(\"actual_data_bms.csv\")\n",
        "\n",
        "# Split data into input and output\n",
        "X = data.drop('soc', axis=1).values\n",
        "y = data['soc'].values\n",
        "\n",
        "# Split data into training and testing sets\n",
        "X_train, X_test, y_train, y_test = train_test_split(X, y, test_size=0.2, random_state=0)\n",
        "\n",
        "# Reshape input data for CNN model\n",
        "X_train = X_train.reshape(X_train.shape[0], X_train.shape[1], 1)\n",
        "X_test = X_test.reshape(X_test.shape[0], X_test.shape[1], 1)\n",
        "\n",
        "# Define CNN model\n",
        "model = Sequential()\n",
        "model.add(Conv1D(filters=64, kernel_size=3, activation='relu', input_shape=(X_train.shape[1], 1)))\n",
        "model.add(MaxPooling1D(pool_size=2))\n",
        "model.add(Flatten())\n",
        "model.add(Dense(1))\n",
        "\n",
        "# Compile model\n",
        "model.compile(loss='mean_squared_error', optimizer='adam')\n",
        "\n",
        "# Train model\n",
        "model.fit(X_train, y_train, epochs=50, batch_size=32)\n",
        "# Load the saved model\n",
        "model = load_model('soc_model.h5')\n",
        "\n",
        "# Predict on the test set\n",
        "y_pred = model.predict(X_test)\n",
        "\n",
        "# Calculate MSE, RMSE, and MAE\n",
        "mse = mean_squared_error(y_test, y_pred)\n",
        "rmse = np.sqrt(mse)\n",
        "mae = mean_absolute_error(y_test, y_pred)\n",
        "\n",
        "# Print results\n",
        "print('MSE', mse)\n",
        "print('RMSE', rmse)\n",
        "print('MAE', mae)\n",
        "\n",
        "\n"
      ]
    },
    {
      "cell_type": "code",
      "source": [
        "y_pred=model.predict(X_test)\n",
        "np.set_printoptions(precision=5)\n",
        "np.concatenate((y_pred.reshape(len(y_pred),1),y_test.reshape(len(y_test),1)), 1)"
      ],
      "metadata": {
        "colab": {
          "base_uri": "https://localhost:8080/"
        },
        "id": "hhXYvUnj5zmx",
        "outputId": "05a8909d-bc15-433f-add1-8104efe74bfc"
      },
      "execution_count": null,
      "outputs": [
        {
          "output_type": "stream",
          "name": "stdout",
          "text": [
            "46/46 [==============================] - 0s 1ms/step\n"
          ]
        },
        {
          "output_type": "execute_result",
          "data": {
            "text/plain": [
              "array([[0.85535, 0.76186],\n",
              "       [0.92491, 0.9366 ],\n",
              "       [0.72077, 0.68657],\n",
              "       ...,\n",
              "       [0.47074, 0.45518],\n",
              "       [0.07522, 0.05622],\n",
              "       [0.55106, 0.54062]])"
            ]
          },
          "metadata": {},
          "execution_count": 32
        }
      ]
    },
    {
      "cell_type": "code",
      "source": [
        "import matplotlib.pyplot as plt\n",
        "\n",
        "# Assuming y_true and y_pred are numpy arrays containing the actual and predicted values respectively\n",
        "\n",
        "plt.scatter(y_test, y_pred, color='blue')\n",
        "plt.xlabel('Actual Values')\n",
        "plt.ylabel('Predicted Values')\n",
        "plt.title('Actual vs. Predicted')\n",
        "plt.show()"
      ],
      "metadata": {
        "colab": {
          "base_uri": "https://localhost:8080/",
          "height": 472
        },
        "id": "OAhmpaeC6vyn",
        "outputId": "e725619b-8723-4127-f88b-7235b473aa76"
      },
      "execution_count": null,
      "outputs": [
        {
          "output_type": "display_data",
          "data": {
            "text/plain": [
              "<Figure size 640x480 with 1 Axes>"
            ],
            "image/png": "[encoded data removed]"
          },
          "metadata": {}
        }
      ]
    },
    {
      "cell_type": "code",
      "source": [
        "# import numpy as np\n",
        "# from keras.models import load_model\n",
        "\n",
        "# # Load the model\n",
        "# model = load_model(\"/content/soc_model.h5\")\n",
        "\n",
        "# # Define a dataset of SOC values to test the model with\n",
        "# test_data = np.array([[4.17301,-0.14558, 9.14879, -0.00245], [3.19283, 0.07856, 5.93819, -0.00984]])\n",
        "\n",
        "# # Reshape the test data for the CNN model\n",
        "# test_data = test_data.reshape(test_data.shape[0], test_data.shape[1], 1)\n",
        "\n",
        "# # Make predictions on the test data\n",
        "# predictions = model.predict(test_data)\n",
        "\n",
        "# # Print the predicted SOC values\n",
        "# print('Predicted SOC values:', predictions.flatten())\n"
      ],
      "metadata": {
        "id": "RVbyZAsXVJ9d"
      },
      "execution_count": null,
      "outputs": []
    }
  ]
}